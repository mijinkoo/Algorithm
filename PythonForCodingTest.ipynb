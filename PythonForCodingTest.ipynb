{
 "cells": [
  {
   "cell_type": "markdown",
   "metadata": {},
   "source": [
    "# 🎯코딩테스트를 위한 파이썬 문법\n",
    "기본적인 내용들은 생략하고, 내가 나중에 찾아볼 것 같은 내용들만 정리했다.\n",
    "## 1. 자료형\n",
    "### 1) 수 자료형\n",
    "#### 실수형\n",
    "▪ 지수 표현 방식"
   ]
  },
  {
   "cell_type": "code",
   "execution_count": 1,
   "metadata": {},
   "outputs": [
    {
     "name": "stdout",
     "output_type": "stream",
     "text": [
      "1000000000.0\n",
      "752.5\n",
      "3.954\n"
     ]
    }
   ],
   "source": [
    "a = 1e9\n",
    "print(a)\n",
    "\n",
    "a = 75.25e1\n",
    "print(a)\n",
    "\n",
    "a = 3954e-3\n",
    "print(a)"
   ]
  },
  {
   "cell_type": "markdown",
   "metadata": {},
   "source": [
    "▪ round() 함수  \n",
    "컴퓨터는 실수를 정확히 표현하지 못한다. 실수를 비교할 때 round() 함수를 사용하면 된다.  \n",
    "round(실수형 데이터, 반올림하고자 하는 위치-1)  \n",
    "round()의 인자가 하나일 경우는 소수점 첫째 자리에서 반올림한다."
   ]
  },
  {
   "cell_type": "code",
   "execution_count": 6,
   "metadata": {},
   "outputs": [
    {
     "name": "stdout",
     "output_type": "stream",
     "text": [
      "123.46\n",
      "123\n",
      "0.8999999999999999\n",
      "0.9\n",
      "0.9\n",
      "True\n"
     ]
    }
   ],
   "source": [
    "print(round(123.456, 2))\n",
    "print(round(123.456))\n",
    "\n",
    "a = 0.3 + 0.6\n",
    "print(a)\n",
    "print(round(a, 2))\n",
    "print(round(a, 1))\n",
    "\n",
    "if round(a, 1) == 0.9:\n",
    "    print(True)\n",
    "else:\n",
    "    print(False)"
   ]
  },
  {
   "cell_type": "markdown",
   "metadata": {},
   "source": [
    "### 2) 리스트 자료형\n",
    "#### 리스트 만들기\n",
    "▪ 빈 리스트 선언하기"
   ]
  },
  {
   "cell_type": "code",
   "execution_count": 10,
   "metadata": {},
   "outputs": [
    {
     "name": "stdout",
     "output_type": "stream",
     "text": [
      "[]\n",
      "[]\n"
     ]
    }
   ],
   "source": [
    "# 빈 리스트 선언 방법\n",
    "a = list()\n",
    "print(a)\n",
    "\n",
    "a = []\n",
    "print(a)"
   ]
  },
  {
   "cell_type": "markdown",
   "metadata": {},
   "source": [
    "▪ 📌리스트 초기화하기"
   ]
  },
  {
   "cell_type": "code",
   "execution_count": 9,
   "metadata": {},
   "outputs": [
    {
     "name": "stdout",
     "output_type": "stream",
     "text": [
      "[0, 0, 0, 0, 0, 0, 0, 0, 0, 0]\n"
     ]
    }
   ],
   "source": [
    "# 크기가 N이고, 모든 값이 0인 1차원 리스트 초기화\n",
    "n = 10\n",
    "a = [0] * n\n",
    "print(a)"
   ]
  },
  {
   "cell_type": "markdown",
   "metadata": {},
   "source": [
    "#### 리스트의 인덱싱과 슬라이싱\n",
    "▪ 슬라이싱  \n",
    "list[1:6] (끝 인덱스-1)까지 처리된다."
   ]
  },
  {
   "cell_type": "code",
   "execution_count": 11,
   "metadata": {},
   "outputs": [
    {
     "name": "stdout",
     "output_type": "stream",
     "text": [
      "[2, 3, 4, 5]\n"
     ]
    }
   ],
   "source": [
    "a = [1, 2, 3, 4, 5, 6, 7, 8]\n",
    "print(a[1:5])"
   ]
  },
  {
   "cell_type": "markdown",
   "metadata": {},
   "source": [
    "#### 📌리스트 컴프리헨션\n"
   ]
  },
  {
   "cell_type": "markdown",
   "metadata": {},
   "source": [
    "[ ] 안에 조건문과 반복문을 넣어 리스트를 초기화할 수 있다."
   ]
  },
  {
   "cell_type": "code",
   "execution_count": 12,
   "metadata": {},
   "outputs": [
    {
     "name": "stdout",
     "output_type": "stream",
     "text": [
      "[1, 3, 5, 7, 9, 11, 13, 15, 17, 19]\n",
      "[1, 4, 9, 16, 25, 36, 49, 64, 81]\n"
     ]
    }
   ],
   "source": [
    "# 0부터 19까지 홀수만 포함하는 리스트\n",
    "array = [i for i in range(20) if i % 2 == 1]\n",
    "print(array)\n",
    "\n",
    "# 1부터 9까지의 수의 제곱 값을 포함하는 리스트\n",
    "array = [i**2 for i in range(1, 10)]\n",
    "print(array)"
   ]
  },
  {
   "cell_type": "markdown",
   "metadata": {},
   "source": [
    "특히 2차원 리스트를 초기화할 때 매우 효과적으로 사용할 수 있다. 특정한 크기의 2차원 리스트를 초기화할 때에는 반드시 리스트 컴프리헨션을 이용해야 한다."
   ]
  },
  {
   "cell_type": "code",
   "execution_count": 13,
   "metadata": {},
   "outputs": [
    {
     "name": "stdout",
     "output_type": "stream",
     "text": [
      "[[0, 0, 0, 0], [0, 0, 0, 0], [0, 0, 0, 0]]\n"
     ]
    }
   ],
   "source": [
    "#  N x M 크기의 2차원 리스트 초기화\n",
    "n = 3\n",
    "m = 4\n",
    "array = [[0]*m for _ in range(n)]\n",
    "print(array)"
   ]
  },
  {
   "cell_type": "code",
   "execution_count": 14,
   "metadata": {},
   "outputs": [
    {
     "name": "stdout",
     "output_type": "stream",
     "text": [
      "[[0, 0, 0, 0, 0], [0, 0, 0, 0, 0]]\n",
      "[[0, 0, 0, 0, 0], [0, 0, 5, 0, 0]]\n"
     ]
    }
   ],
   "source": [
    "n = 2\n",
    "m = 5\n",
    "array = [[0]*m for _ in range(n)]\n",
    "print(array)\n",
    "\n",
    "array[1][2]=5\n",
    "print(array)"
   ]
  },
  {
   "cell_type": "markdown",
   "metadata": {},
   "source": [
    "#### 리스트 관련 기타 메서드\n",
    "- append()\n",
    "- sort(): 오름차순 정렬\n",
    "- sort(reverse = True): 내림차순 정렬\n",
    "- reverse()\n",
    "- insert()\n",
    "- count()\n",
    "- remove()"
   ]
  },
  {
   "cell_type": "code",
   "execution_count": 2,
   "metadata": {},
   "outputs": [
    {
     "name": "stdout",
     "output_type": "stream",
     "text": [
      "[1, 3, 4, 6]\n",
      "[6, 4, 3, 1]\n"
     ]
    }
   ],
   "source": [
    "a = [1, 4, 3, 6]\n",
    "\n",
    "# 오름차순 정렬\n",
    "a.sort()\n",
    "print(a)\n",
    "\n",
    "# 내림차순 정렬\n",
    "a.sort(reverse=True)\n",
    "print(a)"
   ]
  },
  {
   "cell_type": "code",
   "execution_count": 5,
   "metadata": {
    "scrolled": true
   },
   "outputs": [
    {
     "name": "stdout",
     "output_type": "stream",
     "text": [
      "[6, 3, 4, 1]\n",
      "[6, 100, 3, 4, 1]\n",
      "1\n",
      "[6, 3, 4, 1]\n"
     ]
    }
   ],
   "source": [
    "a = [1, 4, 3, 6]\n",
    "\n",
    "# 리스트 원소 뒤집기\n",
    "a.reverse()\n",
    "print(a)\n",
    "\n",
    "# 특정 인덱스에 데이터 추가\n",
    "a.insert(1, 100)\n",
    "print(a)\n",
    "\n",
    "# 특정 값인 데이터 개수 세기\n",
    "print(a.count(100))\n",
    "\n",
    "# 특정 값 데이터 삭제\n",
    "a.remove(100)\n",
    "print(a)"
   ]
  },
  {
   "cell_type": "markdown",
   "metadata": {},
   "source": [
    "+📌시간복잡도  \n",
    "insert()의 시간 복잡도 O(N)\n",
    "append()의 시간 복잡도 O(1)\n",
    "remove()의 시간 복잡도 O(N)\n",
    "-> 따라서 insert()를 너무 남발하면 시간 초과될 수도 있음"
   ]
  },
  {
   "cell_type": "code",
   "execution_count": 6,
   "metadata": {},
   "outputs": [
    {
     "name": "stdout",
     "output_type": "stream",
     "text": [
      "[1, 2, 4]\n"
     ]
    }
   ],
   "source": [
    "# 특정 값의 원소를 모두 제거할 때!\n",
    "a = [1, 2, 3, 4, 5, 5, 5]\n",
    "remove_set = {3, 5}\n",
    "\n",
    "result = [i for i in a if i not in remove_set]\n",
    "print(result)"
   ]
  }
 ],
 "metadata": {
  "kernelspec": {
   "display_name": "Python 3",
   "language": "python",
   "name": "python3"
  },
  "language_info": {
   "codemirror_mode": {
    "name": "ipython",
    "version": 3
   },
   "file_extension": ".py",
   "mimetype": "text/x-python",
   "name": "python",
   "nbconvert_exporter": "python",
   "pygments_lexer": "ipython3",
   "version": "3.8.5"
  }
 },
 "nbformat": 4,
 "nbformat_minor": 4
}
