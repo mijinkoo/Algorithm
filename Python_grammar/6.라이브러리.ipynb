{
 "cells": [
  {
   "cell_type": "markdown",
   "metadata": {},
   "source": [
    "# 🎯코딩테스트를 위한 파이썬 문법\n",
    "기본적인 내용들은 생략하고, 내가 나중에 찾아볼 것 같은 내용들만 정리했다.\n",
    "## 6. 주요 라이브러리\n",
    "### 1) 내장 함수\n",
    "- sum()  \n",
    "리스트와 같은 iterable 객체가 입력으로 주어졌을 때, 모든 원소의 합을 반환한다."
   ]
  },
  {
   "cell_type": "code",
   "execution_count": 1,
   "metadata": {},
   "outputs": [
    {
     "name": "stdout",
     "output_type": "stream",
     "text": [
      "55\n"
     ]
    }
   ],
   "source": [
    "result = sum([1, 2, 3, 4, 5, 6, 7, 8, 9, 10])\n",
    "print(result)"
   ]
  },
  {
   "cell_type": "markdown",
   "metadata": {},
   "source": [
    "- min()  \n",
    "파라미터가 2개 이상 들어왔을 때 가장 작은 값을 반환한다.  \n",
    "  \n",
    "- max()\n",
    "파라미터가 2개 이상 들어왔을 때 가장 큰 값을 반환한다."
   ]
  },
  {
   "cell_type": "code",
   "execution_count": 3,
   "metadata": {},
   "outputs": [
    {
     "name": "stdout",
     "output_type": "stream",
     "text": [
      "3\n",
      "5\n"
     ]
    }
   ],
   "source": [
    "result = min([3, 5, 6, 7, 8, 9])\n",
    "result2 = min(5, 6, 7, 8)\n",
    "\n",
    "print(result)\n",
    "print(result2)"
   ]
  },
  {
   "cell_type": "code",
   "execution_count": 4,
   "metadata": {},
   "outputs": [
    {
     "name": "stdout",
     "output_type": "stream",
     "text": [
      "9\n",
      "8\n"
     ]
    }
   ],
   "source": [
    "result = max([3, 5, 6, 7, 8, 9])\n",
    "result2 = max(5, 6, 7, 8)\n",
    "\n",
    "print(result)\n",
    "print(result2)"
   ]
  },
  {
   "cell_type": "markdown",
   "metadata": {},
   "source": [
    "- eval()  \n",
    "수학 수식이 문자열 형식으로 들어오면 해당 수식을 계산한 결과를 반환한다.  "
   ]
  },
  {
   "cell_type": "code",
   "execution_count": 5,
   "metadata": {},
   "outputs": [
    {
     "name": "stdout",
     "output_type": "stream",
     "text": [
      "64\n"
     ]
    }
   ],
   "source": [
    "result = eval(\"(3 + 5) * 8\")\n",
    "\n",
    "print(result)"
   ]
  },
  {
   "cell_type": "markdown",
   "metadata": {},
   "source": [
    "- sorted()  \n",
    "iterable 객체가 들어왔을 때, 오름차순으로 정렬된 결과를 반환한다.  \n",
    "key 속성으로 정렬 기준을 명시할 수 있다."
   ]
  },
  {
   "cell_type": "code",
   "execution_count": 6,
   "metadata": {},
   "outputs": [
    {
     "name": "stdout",
     "output_type": "stream",
     "text": [
      "[1, 4, 5, 8, 9]\n",
      "[9, 8, 5, 4, 1]\n"
     ]
    }
   ],
   "source": [
    "result = sorted([9, 1, 8, 5, 4])\n",
    "print(result)\n",
    "\n",
    "result = sorted([9, 1, 8, 5, 4], reverse = True)\n",
    "print(result)"
   ]
  },
  {
   "cell_type": "code",
   "execution_count": 10,
   "metadata": {},
   "outputs": [
    {
     "name": "stdout",
     "output_type": "stream",
     "text": [
      "[('이순신', 45), ('홍길동', 35), ('아무개', 20)]\n",
      "[('사과', 'a'), ('바나나', 'b'), ('파인애플', 'p'), ('딸기', 's')]\n"
     ]
    }
   ],
   "source": [
    "result = sorted([('홍길동', 35), ('이순신', 45), ('아무개', 20)], \n",
    "                key = lambda x: x[1], reverse = True)\n",
    "print(result)\n",
    "\n",
    "result = sorted([('바나나', 'b'), ('사과', 'a'), ('파인애플', 'p'), ('딸기', 's')], \n",
    "               key = lambda x: x[1])\n",
    "# 문자도 알파벳 순서로 정렬됨! 와우\n",
    "print(result)"
   ]
  },
  {
   "cell_type": "markdown",
   "metadata": {},
   "source": [
    "### 2) itertools\n",
    "- permutations  \n",
    "순서⭕ 중복❌  \n",
    "리스트와 같은 iterable 객체에서 r개의 데이터를 뽑아 일렬로 나열하는 모든 경우(순열)를 계산해준다."
   ]
  },
  {
   "cell_type": "code",
   "execution_count": 13,
   "metadata": {},
   "outputs": [
    {
     "name": "stdout",
     "output_type": "stream",
     "text": [
      "[('A', 'B', 'C'), ('A', 'C', 'B'), ('B', 'A', 'C'), ('B', 'C', 'A'), ('C', 'A', 'B'), ('C', 'B', 'A')]\n",
      "[('A', 'B'), ('A', 'C'), ('B', 'A'), ('B', 'C'), ('C', 'A'), ('C', 'B')]\n"
     ]
    }
   ],
   "source": [
    "from itertools import permutations\n",
    "data = ['A', 'B', 'C']\n",
    "result = list(permutations(data, 3))\n",
    "print(result)\n",
    "\n",
    "result = list(permutations(data, 2))\n",
    "print(result)"
   ]
  },
  {
   "cell_type": "markdown",
   "metadata": {},
   "source": [
    "- combinations  \n",
    "순서❌ 중복❌  \n",
    "리스트와 같은 iterable 객체에서 r개의 데이터를 뽑아 순서를 고려하지 않고 나열하는 모든 경우(조합)를 계산한다."
   ]
  },
  {
   "cell_type": "code",
   "execution_count": 15,
   "metadata": {},
   "outputs": [
    {
     "name": "stdout",
     "output_type": "stream",
     "text": [
      "[('A', 'B'), ('A', 'C'), ('B', 'C')]\n"
     ]
    }
   ],
   "source": [
    "from itertools import combinations\n",
    "\n",
    "data = ['A', 'B', 'C']\n",
    "result = list(combinations(data, 2))\n",
    "print(result)"
   ]
  },
  {
   "cell_type": "markdown",
   "metadata": {},
   "source": [
    "- product  \n",
    "순서⭕ 중복⭕  \n",
    "리스트와 같은 iterable 객체에서 r개의 데이터를 **중복하여** 뽑아 일렬로 나열하는 모든 경우(중복 순열)를 계산한다."
   ]
  },
  {
   "cell_type": "code",
   "execution_count": 17,
   "metadata": {},
   "outputs": [
    {
     "name": "stdout",
     "output_type": "stream",
     "text": [
      "[('A', 'A'), ('A', 'B'), ('A', 'C'), ('B', 'A'), ('B', 'B'), ('B', 'C'), ('C', 'A'), ('C', 'B'), ('C', 'C')]\n"
     ]
    }
   ],
   "source": [
    "from itertools import product\n",
    "\n",
    "data = ['A', 'B', 'C']\n",
    "result = list(product(data, repeat = 2))\n",
    "print(result)"
   ]
  },
  {
   "cell_type": "markdown",
   "metadata": {},
   "source": [
    "- combinations_with_replacement  \n",
    "순서❌ 중복⭕  \n",
    "리스트와 같은 iterable 객체에서 r개의 데이터를 **중복하여** 뽑아 순서를 고려하지 않고 나열하는 모든 경우(중복 조합)를 계산한다.  "
   ]
  },
  {
   "cell_type": "code",
   "execution_count": 18,
   "metadata": {
    "scrolled": true
   },
   "outputs": [
    {
     "name": "stdout",
     "output_type": "stream",
     "text": [
      "[('A', 'A'), ('A', 'B'), ('A', 'C'), ('B', 'B'), ('B', 'C'), ('C', 'C')]\n"
     ]
    }
   ],
   "source": [
    "from itertools import combinations_with_replacement\n",
    "\n",
    "data = ['A', 'B', 'C']\n",
    "result = list(combinations_with_replacement(data, 2))\n",
    "print(result)"
   ]
  },
  {
   "cell_type": "markdown",
   "metadata": {},
   "source": [
    "### 3) heapq\n",
    "- heapq는 다익스트라 최단경로 알고리즘을 포함해 다양한 알고리즘에서 우선순위 큐 기능을 구현하고자 할 때 사용된다.  \n",
    "- 파이썬의 힙은 최소힙으로 구성되어 있어 단순히 원소를 힙에 전부 넣었다가 빼는 것만으로도 시간 복잡도 O(NlogN)에 오름차순 정렬이 완료된다.  \n",
    "  - 최소 힙 자료구조의 최상단 원소는 항상 '가장 작은' 원소이다.  \n",
    "- 힙에 원소를 삽입할 때는 **heapq.heappush()** 메소드를 이용하고,  \n",
    "- 힙에서 원소를 꺼낼 때는 **heapq.heqppop()** 메소드를 이용한다.  "
   ]
  },
  {
   "cell_type": "code",
   "execution_count": 29,
   "metadata": {},
   "outputs": [
    {
     "name": "stdout",
     "output_type": "stream",
     "text": [
      "[0, 1, 2, 3, 4, 5, 6, 7, 8, 9]\n"
     ]
    }
   ],
   "source": [
    "import heapq\n",
    "\n",
    "def heapsort(iterable):\n",
    "    h = []\n",
    "    result = []\n",
    "    # 모든 원소를 차례대로 힙에 삽입\n",
    "    for value in iterable:\n",
    "        heapq.heappush(h, value)\n",
    "    \n",
    "    # 힙에 삽입된 모든원소를 차례대로 꺼내어 담기\n",
    "    for i in range(len(h)):\n",
    "        result.append(heapq.heappop(h))\n",
    "    return result\n",
    "\n",
    "result = heapsort([1, 3, 5, 7, 9, 2, 4, 6, 8, 0])\n",
    "print(result)"
   ]
  },
  {
   "cell_type": "code",
   "execution_count": 28,
   "metadata": {},
   "outputs": [
    {
     "name": "stdout",
     "output_type": "stream",
     "text": [
      "[9, 8, 7, 6, 5, 4, 3, 2, 1, 0]\n"
     ]
    }
   ],
   "source": [
    "# 최대 힙 구현\n",
    "import heapq\n",
    "\n",
    "def heapsort(iterable):\n",
    "    h = []\n",
    "    result = []\n",
    "    # 모든 원소를 차례대로 힙에 삽입\n",
    "    for value in iterable:\n",
    "        heapq.heappush(h, -value)\n",
    "        \n",
    "    # 힙에 삽입된 모든 원소를 차례대로 꺼내어 담기\n",
    "    for i in range(len(h)):\n",
    "        result.append(-heapq.heappop(h))\n",
    "    return result\n",
    "\n",
    "result = heapsort([1, 3, 5, 7, 9, 2, 4, 6, 8, 0])\n",
    "print(result)"
   ]
  },
  {
   "cell_type": "markdown",
   "metadata": {},
   "source": [
    "### 4) bisect\n",
    "- 이진 탐색을 쉽게 구현할 수 있는 bisect 라이브러리  \n",
    "- '정렬된 배열'에서 특정한 원소를 찾아야 할 때 매우 효과적으로 사용된다.  \n",
    "  \n",
    "  \n",
    "- **bisect_left(a, x)**\n",
    "정렬된 순서를 유지하면서 리스트 a에서 데이터 x를 삽입할 가장 왼쪽 인덱스를 찾는 메서드  \n",
    "- **bisect_right(a, x)**\n",
    "정렬된 순서를 유지하도록 리스트 a에서 데이터 x를 삽입할 가장 오른쪽 인덱스를 찾는 메서드  \n",
    "  \n",
    "- bisect_left() 함수와 bisect_right() 함수는 '정렬된 리스트'에서 '값이 특정 범위에 속하는 원소의 개수'를 구하고자 할 때 효과적으로 사용된다.  \n",
    "  \n",
    "  \n",
    "- count_by_range(a, left_value, right_value) => 아래에서 구현한 함수  \n",
    "정렬된 리스트에서 값이 [left_value, right_value]에 속하는 데이터의 개수를 반환한다."
   ]
  },
  {
   "cell_type": "code",
   "execution_count": 30,
   "metadata": {},
   "outputs": [
    {
     "name": "stdout",
     "output_type": "stream",
     "text": [
      "2\n",
      "4\n"
     ]
    }
   ],
   "source": [
    "from bisect import bisect_left, bisect_right\n",
    "\n",
    "a = [1, 2, 4, 4, 8]\n",
    "x = 4\n",
    "\n",
    "print(bisect_left(a, x)) # 2\n",
    "print(bisect_right(a, x)) # 4"
   ]
  },
  {
   "cell_type": "code",
   "execution_count": 33,
   "metadata": {},
   "outputs": [
    {
     "name": "stdout",
     "output_type": "stream",
     "text": [
      "2\n",
      "5\n"
     ]
    }
   ],
   "source": [
    "from bisect import bisect_left, bisect_right\n",
    "\n",
    "def count_by_range(a, left_value, right_value):\n",
    "    right_index = bisect_right(a, right_value)\n",
    "    left_index = bisect_left(a, left_value)\n",
    "    return right_index - left_index\n",
    "\n",
    "a = [1, 2, 3, 3, 3, 3, 4, 4, 8, 9]\n",
    "\n",
    "print(count_by_range(a, 4, 4))\n",
    "print(count_by_range(a, 2, 3))"
   ]
  },
  {
   "cell_type": "markdown",
   "metadata": {},
   "source": [
    "### 5) collections\n",
    "#### deque\n",
    "- deque를 사용해 큐를 구현한다.  \n",
    "- deque에서는 리스트 자료형과 다르게 인덱싱, 슬라이싱 등의 기능은 사용할 수 없다.  \n",
    "- 연속적으로 나열된 데이터의 시작 부분이나 끝부분에 데이터를 삽입하거나 삭제할 때는 매우 효과적으로 사용된다.  \n",
    "- deque에서 첫 번째 원소를 제거할 때 **popleft()** 함수를 사용하며,\n",
    "- 마지막 원소를 제거할 때 **pop()** 함수를 사용한다.\n",
    "- 첫 번째 인덱스에 원소 x를 삽입할 때 **appendleft(x)** 를 사용하며,\n",
    "- 마지막 인덱스에 원소 x를 삽입할 때 **append(x)** 를 사용한다."
   ]
  },
  {
   "cell_type": "code",
   "execution_count": 34,
   "metadata": {},
   "outputs": [
    {
     "name": "stdout",
     "output_type": "stream",
     "text": [
      "deque([1, 2, 3, 4, 5])\n",
      "[1, 2, 3, 4, 5]\n"
     ]
    }
   ],
   "source": [
    "from collections import deque\n",
    "\n",
    "data = deque([2, 3, 4])\n",
    "data.appendleft(1)\n",
    "data.append(5)\n",
    "\n",
    "print(data)\n",
    "# 리스트로 자료형 변환\n",
    "print(list(data))"
   ]
  },
  {
   "cell_type": "markdown",
   "metadata": {},
   "source": [
    "#### Counter\n",
    "- collections 라이브러리의 Counter는 등장횟수를 세를 기능을 제공한다.\n",
    "- iterable 객체가 주어졌을 때, 해당 객체 내부의 원소가 몇 번씩 등장했는지를 알려준다."
   ]
  },
  {
   "cell_type": "code",
   "execution_count": 36,
   "metadata": {},
   "outputs": [
    {
     "name": "stdout",
     "output_type": "stream",
     "text": [
      "3\n",
      "1\n",
      "Counter({'blue': 3, 'red': 2, 'green': 1})\n",
      "{'red': 2, 'blue': 3, 'green': 1}\n"
     ]
    }
   ],
   "source": [
    "from collections import Counter\n",
    "\n",
    "counter = Counter(['red', 'blue', 'red', 'green', 'blue', 'blue'])\n",
    "\n",
    "print(counter['blue'])\n",
    "print(counter['green'])\n",
    "print(counter)\n",
    "# 딕셔너리로 자료형 변환\n",
    "print(dict(counter))"
   ]
  },
  {
   "cell_type": "markdown",
   "metadata": {},
   "source": [
    "### 6) math\n",
    "- factorial(x)"
   ]
  },
  {
   "cell_type": "code",
   "execution_count": 37,
   "metadata": {},
   "outputs": [
    {
     "name": "stdout",
     "output_type": "stream",
     "text": [
      "120\n"
     ]
    }
   ],
   "source": [
    "import math\n",
    "\n",
    "print(math.factorial(5))"
   ]
  },
  {
   "cell_type": "markdown",
   "metadata": {},
   "source": [
    "- sqrt(x)"
   ]
  },
  {
   "cell_type": "code",
   "execution_count": 38,
   "metadata": {},
   "outputs": [
    {
     "name": "stdout",
     "output_type": "stream",
     "text": [
      "11.0\n",
      "1.4142135623730951\n"
     ]
    }
   ],
   "source": [
    "import math\n",
    "\n",
    "print(math.sqrt(121))\n",
    "print(math.sqrt(2))"
   ]
  },
  {
   "cell_type": "markdown",
   "metadata": {},
   "source": [
    "- gcd(a, b)  \n",
    "a와 b의 최대 공약수"
   ]
  },
  {
   "cell_type": "code",
   "execution_count": 39,
   "metadata": {},
   "outputs": [
    {
     "name": "stdout",
     "output_type": "stream",
     "text": [
      "7\n"
     ]
    }
   ],
   "source": [
    "import math\n",
    "\n",
    "print(math.gcd(21, 49))"
   ]
  },
  {
   "cell_type": "markdown",
   "metadata": {},
   "source": [
    "- 상수 pi, e"
   ]
  },
  {
   "cell_type": "code",
   "execution_count": 40,
   "metadata": {},
   "outputs": [
    {
     "name": "stdout",
     "output_type": "stream",
     "text": [
      "3.141592653589793\n",
      "2.718281828459045\n"
     ]
    }
   ],
   "source": [
    "print(math.pi)\n",
    "print(math.e)"
   ]
  }
 ],
 "metadata": {
  "kernelspec": {
   "display_name": "Python 3",
   "language": "python",
   "name": "python3"
  },
  "language_info": {
   "codemirror_mode": {
    "name": "ipython",
    "version": 3
   },
   "file_extension": ".py",
   "mimetype": "text/x-python",
   "name": "python",
   "nbconvert_exporter": "python",
   "pygments_lexer": "ipython3",
   "version": "3.8.5"
  }
 },
 "nbformat": 4,
 "nbformat_minor": 4
}
