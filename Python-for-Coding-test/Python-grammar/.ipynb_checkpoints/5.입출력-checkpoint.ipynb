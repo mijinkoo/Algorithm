{
 "cells": [
  {
   "cell_type": "markdown",
   "metadata": {},
   "source": [
    "# 🎯코딩테스트를 위한 파이썬 문법\n",
    "기본적인 내용들은 생략하고, 내가 나중에 찾아볼 것 같은 내용들만 정리했다.\n",
    "## 5. 입출력\n",
    "#### input()\n",
    "- 입력받은 데이터를 정수형 데이터로 처리하기 위해서는 문자열을 정수로 바꾸는 int() 함수를 사용해야 한다.  \n",
    "- 공백으로 구분된 여러 개의 데이터를 입력받을 때는 다음 코드를 사용한다."
   ]
  },
  {
   "cell_type": "code",
   "execution_count": 3,
   "metadata": {},
   "outputs": [
    {
     "name": "stdout",
     "output_type": "stream",
     "text": [
      "5\n",
      "65 90 75 34 99\n",
      "[65, 90, 75, 34, 99]\n",
      "[99, 90, 75, 65, 34]\n"
     ]
    }
   ],
   "source": [
    "# 데이터의 개수 입력\n",
    "n = int(input())\n",
    "\n",
    "# 각 데이터를 공백으로 구분하여 입력\n",
    "data = list(map(int, input().split()))\n",
    "\n",
    "print(data)\n",
    "data.sort(reverse = True)\n",
    "print(data)"
   ]
  },
  {
   "cell_type": "code",
   "execution_count": 5,
   "metadata": {},
   "outputs": [
    {
     "name": "stdout",
     "output_type": "stream",
     "text": [
      "5 3 7\n",
      "5 3 7\n"
     ]
    }
   ],
   "source": [
    "# n, m, k를 공백으로 구분하여 입력\n",
    "n, m, k = map(int, input().split())\n",
    "\n",
    "print(n, m, k)"
   ]
  },
  {
   "cell_type": "markdown",
   "metadata": {},
   "source": [
    "#### 입력의 개수가 많은 경우\n",
    "- 입력의 개수가 많은 경우에는 단순히 input() 함수를 그대로 사용하지 않는다.  \n",
    "- 파이썬의 기본 input() 함수는 동작속도가 느려서 시간초과 될 수 있다.  \n",
    "- 이 경우 파이썬 sys 라이브러리에 정의되어 있는 **sys.stdin.readline()** 함수를 이용한다.  \n",
    "  - input() 함수와 같이 한 줄씩 입력받기 위해 사용한다.  "
   ]
  },
  {
   "cell_type": "code",
   "execution_count": 1,
   "metadata": {},
   "outputs": [],
   "source": [
    "import sys"
   ]
  },
  {
   "cell_type": "code",
   "execution_count": 4,
   "metadata": {},
   "outputs": [],
   "source": [
    "# 문자열 입력받기\n",
    "data = sys.stdin.readline().rstrip()"
   ]
  },
  {
   "cell_type": "markdown",
   "metadata": {},
   "source": [
    "#### f-string 문법 (Python 3.6 이상)\n",
    "- 자료형의 변환 없이도 간단히 문자열과 정수를 함께 넣을 수 있다."
   ]
  },
  {
   "cell_type": "code",
   "execution_count": 10,
   "metadata": {},
   "outputs": [
    {
     "name": "stdout",
     "output_type": "stream",
     "text": [
      "정답은 7입니다.\n"
     ]
    }
   ],
   "source": [
    "answer = 7\n",
    "print(f\"정답은 {answer}입니다.\")"
   ]
  }
 ],
 "metadata": {
  "kernelspec": {
   "display_name": "Python 3",
   "language": "python",
   "name": "python3"
  },
  "language_info": {
   "codemirror_mode": {
    "name": "ipython",
    "version": 3
   },
   "file_extension": ".py",
   "mimetype": "text/x-python",
   "name": "python",
   "nbconvert_exporter": "python",
   "pygments_lexer": "ipython3",
   "version": "3.8.5"
  }
 },
 "nbformat": 4,
 "nbformat_minor": 4
}
